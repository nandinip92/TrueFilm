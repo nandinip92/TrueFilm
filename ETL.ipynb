{
 "cells": [
  {
   "cell_type": "markdown",
   "metadata": {},
   "source": [
    "###### Step-1"
   ]
  },
  {
   "cell_type": "code",
   "execution_count": 1,
   "metadata": {},
   "outputs": [
    {
     "name": "stderr",
     "output_type": "stream",
     "text": [
      "2021-02-17 23:45:14 INFO (CreateTables.py): Connected to Postgres....\n",
      "2021-02-17 23:45:14 INFO (CreateTables.py): true_film_db already exists... Droped true_film_db...\n",
      "2021-02-17 23:45:43 INFO (CreateTables.py): Created true_film_db Successfully...\n",
      "2021-02-17 23:45:43 CRITICAL (CreateTables.py): table \"movie_links\" does not exist\n",
      "\n",
      "2021-02-17 23:45:43 CRITICAL (CreateTables.py): table \"movies_metadata\" does not exist\n",
      "\n",
      "2021-02-17 23:45:43 CRITICAL (CreateTables.py): table \"movie_ratings\" does not exist\n",
      "\n",
      "2021-02-17 23:45:43 CRITICAL (CreateTables.py): table \"top_movies\" does not exist\n",
      "\n",
      "2021-02-17 23:45:43 INFO (CreateTables.py): 'movie_links' table created successfully...\n",
      "2021-02-17 23:45:44 INFO (CreateTables.py): 'movies_metadata' table created successfully...\n",
      "2021-02-17 23:45:44 INFO (CreateTables.py): 'movie_ratings' table created successfully...\n",
      "2021-02-17 23:45:44 INFO (CreateTables.py): 'top_movies' table created successfully...\n"
     ]
    }
   ],
   "source": [
    "%run Scripts/CreateTables.py"
   ]
  },
  {
   "cell_type": "markdown",
   "metadata": {},
   "source": [
    "###### Step-2"
   ]
  },
  {
   "cell_type": "code",
   "execution_count": 2,
   "metadata": {},
   "outputs": [
    {
     "name": "stderr",
     "output_type": "stream",
     "text": [
      "2021-02-17 23:45:45 INFO (ConnectToDatabase.py): Connected to Postgres....\n",
      "2021-02-17 23:45:45 INFO (ConnectToDatabase.py): cursor created....\n",
      "2021-02-17 23:45:45 INFO (StagingData.py): Link files ['./Datasets/archive\\\\links.csv', './Datasets/archive\\\\links_small.csv']\n",
      "2021-02-17 23:45:45 INFO (StagingData.py): Date Columns []\n",
      "2021-02-17 23:45:45 INFO (StagingData.py): Type Conversion Columns {'tmdb_id': <class 'numpy.int64'>}\n",
      "2021-02-17 23:45:46 INFO (StagingData.py): Finished loading true_film_db.movie_links table\n",
      "2021-02-17 23:45:46 INFO (StagingData.py): Movies metadata File ./Datasets/archive/movies_metadata.csv\n",
      "2021-02-17 23:45:47 INFO (StagingData.py): Date Columns ['release_date']\n",
      "2021-02-17 23:45:47 INFO (StagingData.py): Type Conversion Columns {'tmdb_id': <class 'numpy.int64'>, 'imdb_id': <class 'numpy.int64'>, 'budget': <class 'numpy.float64'>}\n",
      "2021-02-17 23:45:47 INFO (StagingData.py): Bad Indices in movies_metadata [19730, 35587, 29503]\n",
      "2021-02-17 23:45:51 INFO (StagingData.py): Finished loading true_film_db.movies_metadata table\n"
     ]
    }
   ],
   "source": [
    "%run Scripts/StagingData.py"
   ]
  },
  {
   "cell_type": "markdown",
   "metadata": {},
   "source": [
    "###### Step-3"
   ]
  },
  {
   "cell_type": "code",
   "execution_count": 3,
   "metadata": {},
   "outputs": [
    {
     "name": "stderr",
     "output_type": "stream",
     "text": [
      "2021-02-17 23:45:57 INFO (CreateSparkSession.py): Spark session created...!!!\n"
     ]
    },
    {
     "name": "stdout",
     "output_type": "stream",
     "text": [
      "root\n",
      " |-- user_id: integer (nullable = true)\n",
      " |-- movie_id: integer (nullable = true)\n",
      " |-- rating: double (nullable = true)\n",
      " |-- timestamp: timestamp (nullable = true)\n",
      "\n"
     ]
    },
    {
     "name": "stderr",
     "output_type": "stream",
     "text": [
      "2021-02-17 23:46:41 INFO (StageMovieRatings.py): Finished loading true_film_db.movie_ratings table\n"
     ]
    }
   ],
   "source": [
    "%run Scripts/StageMovieRatings.py"
   ]
  },
  {
   "cell_type": "markdown",
   "metadata": {},
   "source": [
    "###### Step-4"
   ]
  },
  {
   "cell_type": "code",
   "execution_count": 4,
   "metadata": {},
   "outputs": [
    {
     "name": "stderr",
     "output_type": "stream",
     "text": [
      "2021-02-17 23:46:41 INFO (CreateSparkSession.py): Spark session created...!!!\n",
      "2021-02-17 23:46:41 INFO (LoadTopMovies.py): Inferring ./Datasets/enwiki-latest-abstract/enwiki-latest-abstract.xml file schema\n"
     ]
    },
    {
     "name": "stdout",
     "output_type": "stream",
     "text": [
      "root\n",
      " |-- abstract: string (nullable = true)\n",
      " |-- links: string (nullable = true)\n",
      " |-- title: string (nullable = true)\n",
      " |-- url: string (nullable = true)\n",
      "\n"
     ]
    },
    {
     "name": "stderr",
     "output_type": "stream",
     "text": [
      "2021-02-18 00:22:21 INFO (LoadTopMovies.py): Budget to Revenue ratio calculate...!!!\n",
      "2021-02-18 00:22:21 INFO (LoadTopMovies.py): Collected top 1000 movies with highest ratio...!!!\n",
      "2021-02-18 00:22:21 INFO (ConnectToDatabase.py): Connected to Postgres....\n",
      "2021-02-18 00:22:21 INFO (ConnectToDatabase.py): cursor created....\n",
      "2021-02-18 00:33:02 INFO (LoadTopMovies.py): Finished loading true_film_db.top_movies table\n"
     ]
    }
   ],
   "source": [
    "%run Scripts/LoadTopMovies.py"
   ]
  }
 ],
 "metadata": {
  "kernelspec": {
   "display_name": "Python 3",
   "language": "python",
   "name": "python3"
  },
  "language_info": {
   "codemirror_mode": {
    "name": "ipython",
    "version": 3
   },
   "file_extension": ".py",
   "mimetype": "text/x-python",
   "name": "python",
   "nbconvert_exporter": "python",
   "pygments_lexer": "ipython3",
   "version": "3.7.9"
  }
 },
 "nbformat": 4,
 "nbformat_minor": 4
}
